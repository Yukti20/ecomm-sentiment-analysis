{
 "cells": [
  {
   "cell_type": "code",
   "execution_count": 1,
   "id": "bb6633a0-00f0-4d9d-bd8b-a8cca6161cd1",
   "metadata": {},
   "outputs": [
    {
     "name": "stderr",
     "output_type": "stream",
     "text": [
      "/Users/yk/Desktop/Personal Project/ecomm-sentiment-analysis/venv-ecomm/lib/python3.13/site-packages/tqdm/auto.py:21: TqdmWarning: IProgress not found. Please update jupyter and ipywidgets. See https://ipywidgets.readthedocs.io/en/stable/user_install.html\n",
      "  from .autonotebook import tqdm as notebook_tqdm\n"
     ]
    }
   ],
   "source": [
    "## from hugging face\n",
    "from datasets import load_dataset\n",
    "from transformers import AutoTokenizer, AutoModelForSequenceClassification, TrainingArguments, Trainer\n",
    "import evaluate\n",
    "\n",
    "## python libraries\n",
    "import numpy as np\n",
    "import torch"
   ]
  },
  {
   "cell_type": "code",
   "execution_count": 2,
   "id": "5ad61ff8",
   "metadata": {},
   "outputs": [],
   "source": [
    "dataset = load_dataset(\"amazon_polarity\")"
   ]
  },
  {
   "cell_type": "code",
   "execution_count": 3,
   "id": "0cf16fc3",
   "metadata": {},
   "outputs": [
    {
     "name": "stdout",
     "output_type": "stream",
     "text": [
      "Type of dataset:  <class 'datasets.dataset_dict.DatasetDict'>\n",
      "Structure of dataset: \n",
      " DatasetDict({\n",
      "    train: Dataset({\n",
      "        features: ['label', 'title', 'content'],\n",
      "        num_rows: 3600000\n",
      "    })\n",
      "    test: Dataset({\n",
      "        features: ['label', 'title', 'content'],\n",
      "        num_rows: 400000\n",
      "    })\n",
      "})\n",
      "\n",
      " First record in training dataset:\n"
     ]
    },
    {
     "data": {
      "text/plain": [
       "{'label': 1,\n",
       " 'title': 'Stuning even for the non-gamer',\n",
       " 'content': 'This sound track was beautiful! It paints the senery in your mind so well I would recomend it even to people who hate vid. game music! I have played the game Chrono Cross but out of all of the games I have ever played it has the best music! It backs away from crude keyboarding and takes a fresher step with grate guitars and soulful orchestras. It would impress anyone who cares to listen! ^_^'}"
      ]
     },
     "execution_count": 3,
     "metadata": {},
     "output_type": "execute_result"
    }
   ],
   "source": [
    "print(\"Type of dataset: \", type(dataset))\n",
    "print(\"Structure of dataset: \\n\", str(dataset))\n",
    "\n",
    "print(\"\\n First record in training dataset:\")\n",
    "dataset[\"train\"][0]\n",
    "\n",
    "## this dataset has 2 sections - train and test.\n",
    "## each set has dictionaries with 3 features - label, title, and content.\n",
    "## training dataset has 3,600,000 records whereas testing dataset has 400,000"
   ]
  },
  {
   "cell_type": "code",
   "execution_count": 4,
   "id": "e4ebb804",
   "metadata": {},
   "outputs": [
    {
     "name": "stderr",
     "output_type": "stream",
     "text": [
      "Some weights of DistilBertForSequenceClassification were not initialized from the model checkpoint at distilbert-base-uncased and are newly initialized: ['classifier.bias', 'classifier.weight', 'pre_classifier.bias', 'pre_classifier.weight']\n",
      "You should probably TRAIN this model on a down-stream task to be able to use it for predictions and inference.\n"
     ]
    }
   ],
   "source": [
    "model_name = \"distilbert-base-uncased\"\n",
    "\n",
    "model = AutoModelForSequenceClassification.from_pretrained(model_name, num_labels=2, token=False)\n",
    "\n",
    "## I'm adding a classification head to this model with 2 outputs - because I want to have only 2 outcome sentiments\n",
    "## This builds a new layer: Linear(hidden_size → num_labels)\n",
    "## Please note that this will not freeze the existing parameters (weights and biases) - they will have to be frozen separately if we want only the last layer to be trained. That might speed up the training process."
   ]
  },
  {
   "cell_type": "code",
   "execution_count": 5,
   "id": "12841560",
   "metadata": {},
   "outputs": [],
   "source": [
    "tokenizer = AutoTokenizer.from_pretrained(model_name, token=False)\n",
    "\n",
    "def tokenize_function(examples):\n",
    "    # Combine title + content for input\n",
    "    texts = [t + \" \" + c for t, c in zip(examples[\"title\"], examples[\"content\"])]\n",
    "    return tokenizer(texts, padding=\"max_length\", truncation=True, max_length=128)"
   ]
  },
  {
   "cell_type": "code",
   "execution_count": 6,
   "id": "b27c8576",
   "metadata": {},
   "outputs": [],
   "source": [
    "train_subset = dataset[\"train\"].shuffle(seed = 20).select(range(2000))   ## taking 2K records from 3.6M\n",
    "test_subset = dataset[\"test\"].shuffle(seed = 20).select(range(500))      ## taking 500 records from 400K"
   ]
  },
  {
   "cell_type": "code",
   "execution_count": 7,
   "id": "da399935",
   "metadata": {},
   "outputs": [
    {
     "name": "stderr",
     "output_type": "stream",
     "text": [
      "Map:   0%|          | 0/500 [00:00<?, ? examples/s]"
     ]
    },
    {
     "name": "stderr",
     "output_type": "stream",
     "text": [
      "Map: 100%|██████████| 500/500 [00:00<00:00, 5496.68 examples/s]\n"
     ]
    }
   ],
   "source": [
    "tokenized_train = train_subset.map(tokenize_function, batched=True)\n",
    "tokenized_test = test_subset.map(tokenize_function, batched=True)"
   ]
  },
  {
   "cell_type": "code",
   "execution_count": 8,
   "id": "3cb05e53",
   "metadata": {},
   "outputs": [],
   "source": [
    "accuracy = evaluate.load(\"accuracy\")\n",
    "\n",
    "def compute_metrics(eval_pred):\n",
    "    logits, labels = eval_pred\n",
    "    predictions = np.argmax(logits, axis=-1)\n",
    "    return accuracy.compute(predictions=predictions, references=labels)"
   ]
  },
  {
   "cell_type": "code",
   "execution_count": 9,
   "id": "5464220c",
   "metadata": {},
   "outputs": [],
   "source": [
    "training_args = TrainingArguments(\n",
    "                                    output_dir=\"./results\",\n",
    "                                    eval_strategy=\"epoch\",\n",
    "                                    per_device_train_batch_size=16,\n",
    "                                    per_device_eval_batch_size=16,\n",
    "                                    num_train_epochs=2,\n",
    "                                    logging_dir=\"./logs\",\n",
    "                                    save_strategy=\"no\",  # to save time\n",
    "                                    load_best_model_at_end=False\n",
    "                                )"
   ]
  },
  {
   "cell_type": "code",
   "execution_count": 10,
   "id": "2dd0d31b",
   "metadata": {},
   "outputs": [],
   "source": [
    "trainer = Trainer(\n",
    "                    model=model,\n",
    "                    args=training_args,\n",
    "                    train_dataset=tokenized_train,\n",
    "                    eval_dataset=tokenized_test,\n",
    "                    compute_metrics=compute_metrics,\n",
    "                )"
   ]
  },
  {
   "cell_type": "code",
   "execution_count": 11,
   "id": "9362c541",
   "metadata": {},
   "outputs": [
    {
     "name": "stderr",
     "output_type": "stream",
     "text": [
      "/Users/yk/Desktop/Personal Project/ecomm-sentiment-analysis/venv-ecomm/lib/python3.13/site-packages/torch/utils/data/dataloader.py:692: UserWarning: 'pin_memory' argument is set as true but not supported on MPS now, device pinned memory won't be used.\n",
      "  warnings.warn(warn_msg)\n"
     ]
    },
    {
     "data": {
      "text/html": [
       "\n",
       "    <div>\n",
       "      \n",
       "      <progress value='250' max='250' style='width:300px; height:20px; vertical-align: middle;'></progress>\n",
       "      [250/250 01:39, Epoch 2/2]\n",
       "    </div>\n",
       "    <table border=\"1\" class=\"dataframe\">\n",
       "  <thead>\n",
       " <tr style=\"text-align: left;\">\n",
       "      <th>Epoch</th>\n",
       "      <th>Training Loss</th>\n",
       "      <th>Validation Loss</th>\n",
       "      <th>Accuracy</th>\n",
       "    </tr>\n",
       "  </thead>\n",
       "  <tbody>\n",
       "    <tr>\n",
       "      <td>1</td>\n",
       "      <td>No log</td>\n",
       "      <td>0.258892</td>\n",
       "      <td>0.902000</td>\n",
       "    </tr>\n",
       "    <tr>\n",
       "      <td>2</td>\n",
       "      <td>No log</td>\n",
       "      <td>0.327917</td>\n",
       "      <td>0.910000</td>\n",
       "    </tr>\n",
       "  </tbody>\n",
       "</table><p>"
      ],
      "text/plain": [
       "<IPython.core.display.HTML object>"
      ]
     },
     "metadata": {},
     "output_type": "display_data"
    },
    {
     "name": "stderr",
     "output_type": "stream",
     "text": [
      "/Users/yk/Desktop/Personal Project/ecomm-sentiment-analysis/venv-ecomm/lib/python3.13/site-packages/torch/utils/data/dataloader.py:692: UserWarning: 'pin_memory' argument is set as true but not supported on MPS now, device pinned memory won't be used.\n",
      "  warnings.warn(warn_msg)\n"
     ]
    },
    {
     "data": {
      "text/plain": [
       "TrainOutput(global_step=250, training_loss=0.2240973205566406, metrics={'train_runtime': 103.9077, 'train_samples_per_second': 38.496, 'train_steps_per_second': 2.406, 'total_flos': 132467398656000.0, 'train_loss': 0.2240973205566406, 'epoch': 2.0})"
      ]
     },
     "execution_count": 11,
     "metadata": {},
     "output_type": "execute_result"
    }
   ],
   "source": [
    "trainer.train()"
   ]
  },
  {
   "cell_type": "code",
   "execution_count": null,
   "id": "a182c23d",
   "metadata": {},
   "outputs": [
    {
     "data": {
      "text/plain": [
       "('yk_model/tokenizer_config.json',\n",
       " 'yk_model/special_tokens_map.json',\n",
       " 'yk_model/vocab.txt',\n",
       " 'yk_model/added_tokens.json',\n",
       " 'yk_model/tokenizer.json')"
      ]
     },
     "execution_count": 12,
     "metadata": {},
     "output_type": "execute_result"
    }
   ],
   "source": [
    "model.save_pretrained(\"model/\")\n",
    "tokenizer.save_pretrained(\"model/\")"
   ]
  },
  {
   "cell_type": "code",
   "execution_count": null,
   "id": "77abc7c4",
   "metadata": {},
   "outputs": [],
   "source": [
    "## To use the pretrained model in this github repo\n",
    "\n",
    "# model = AutoModelForSequenceClassification.from_pretrained(\"model/\")\n",
    "# tokenizer = AutoTokenizer.from_pretrained(\"model/\")"
   ]
  },
  {
   "cell_type": "code",
   "execution_count": null,
   "id": "c9c40acf",
   "metadata": {},
   "outputs": [],
   "source": []
  }
 ],
 "metadata": {
  "kernelspec": {
   "display_name": "venv-ecomm",
   "language": "python",
   "name": "python3"
  },
  "language_info": {
   "codemirror_mode": {
    "name": "ipython",
    "version": 3
   },
   "file_extension": ".py",
   "mimetype": "text/x-python",
   "name": "python",
   "nbconvert_exporter": "python",
   "pygments_lexer": "ipython3",
   "version": "3.13.7"
  }
 },
 "nbformat": 4,
 "nbformat_minor": 5
}
